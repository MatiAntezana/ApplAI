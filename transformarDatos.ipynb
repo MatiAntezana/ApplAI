{
 "cells": [
  {
   "cell_type": "code",
   "execution_count": 1,
   "metadata": {
    "executionInfo": {
     "elapsed": 16618,
     "status": "ok",
     "timestamp": 1750597278521,
     "user": {
      "displayName": "Matias Luciano Antezana",
      "userId": "07131477241974260716"
     },
     "user_tz": 180
    },
    "id": "QW6d2-gNxpFp"
   },
   "outputs": [],
   "source": [
    "import pandas as pd\n",
    "import asyncio\n",
    "import matplotlib.pyplot as plt\n",
    "import tqdm\n",
    "from openai import AsyncAzureOpenAI\n",
    "from sklearn.metrics import root_mean_squared_error"
   ]
  },
  {
   "cell_type": "code",
   "execution_count": 2,
   "metadata": {
    "executionInfo": {
     "elapsed": 4,
     "status": "ok",
     "timestamp": 1750597278534,
     "user": {
      "displayName": "Matias Luciano Antezana",
      "userId": "07131477241974260716"
     },
     "user_tz": 180
    },
    "id": "T0X0I-43xtOY"
   },
   "outputs": [],
   "source": [
    "# Mati\n",
    "API_KEY = \"Fopj2HvyGgUx60yC311eSwgFUCi0nDMswQzGWB3Dz7BuwH7z2MJ3JQQJ99BFACHYHv6XJ3w3AAABACOGaGMT\"\n",
    "ENDPOINT = \"https://gpt4o-mini-mati.openai.azure.com/\"\n",
    "DEPLOYMENT = \"gpt-4o-mini\""
   ]
  },
  {
   "cell_type": "code",
   "execution_count": 3,
   "metadata": {
    "executionInfo": {
     "elapsed": 3079,
     "status": "ok",
     "timestamp": 1750597281622,
     "user": {
      "displayName": "Matias Luciano Antezana",
      "userId": "07131477241974260716"
     },
     "user_tz": 180
    },
    "id": "DJRFUbftxu0o"
   },
   "outputs": [],
   "source": [
    "from tqdm.notebook import tqdm\n",
    "\n",
    "import os\n",
    "import pandas as pd\n",
    "from tqdm.asyncio import tqdm  # versión async-friendly de tqdm\n",
    "from openai import AsyncAzureOpenAI\n",
    "\n",
    "# ── Configuración del cliente Azure ────────────────────────────────────────────\n",
    "client = AsyncAzureOpenAI(\n",
    "    api_version=\"2024-12-01-preview\",\n",
    "    azure_endpoint=ENDPOINT,   # p.ej. \"https://<recurso>.openai.azure.com/\"\n",
    "    api_key=API_KEY\n",
    ")\n",
    "\n",
    "# ── Función: resume y guarda ──────────────────────────────────────────────────\n",
    "async def resumir_CSV(\n",
    "    cv_list,\n",
    "    overwrite=True,\n",
    "    temperatura=0.4\n",
    "):\n",
    "    # ── Prompt base (f-string se rellenará dentro del for)\n",
    "    prompt_base = \"\"\"\n",
    "You will receive CV information fields with this format:\n",
    "\n",
    "Career Objective: Big data analytics working and database warehouse manager with robust experience in handling all kinds of data. I have also used multiple cloud infrastructure services and am well acquainted with them. Currently in search of role that offers more of development.. Skills: ['Big Data', 'Hadoop', 'Hive', 'Python', 'Mapreduce', 'Spark', 'Java', 'Machine Learning', 'Cloud', 'Hdfs', 'YARN', 'Core Java', 'Data Science', 'C++', 'Data Structures', 'DBMS', 'RDBMS', 'Informatica', 'Talend', 'Amazon Redshift', 'Microsoft Azure']. Institution: ['The Amity School of Engineering & Technology (ASET), Noida']. Degree: ['B.Tech']. Results: ['N/A']. Result Type: [None]. Field of Study: ['Electronics']. Companies: ['Coca-COla']. Job Skills: [['Big Data']]. Positions: ['Big Data Analyst']. Responsibilities: [Technical Support, Troubleshooting, Collaboration, Documentation, System Monitoring, Software Deployment, Training & Mentorship, Industry Trends, Field Visits]. Activity Type: null. Organizations: null. Roles: null. Languages: null. Proficiency: null. Certifications From: null. Certification Skills: null\n",
    "\n",
    "Your task is to extract a cleaned and structured version of the resume that removes any personal contact information (name, email, phone, address, LinkedIn, etc.)\n",
    "- Do NOT summarize or omit key content.\n",
    "- Instead, preserve as much of the original job-related information as possible.\n",
    "- Reorganize and rephrase disconnected items into full sentences with proper structure and connectors (e.g., “The candidate worked at...”, “They were responsible for...”, “Their skills include...”).\n",
    "- Do NOT include any personal identifiers or contact information.\n",
    "- Imagine you are preparing the resume for analysis by an AI model – you want to keep the full context but make it more readable.\n",
    "You may use the following fields **only if present** in the text:\n",
    "    - Career Objective: Brief description of career goals and desired role\n",
    "    - Skills: List of technical and soft skills\n",
    "    - Institution: Educational institutions attended\n",
    "    - Degree: Academic degrees obtained\n",
    "    - Results: Academic results (GPA, grades, honors)\n",
    "    - Result Type: Type of academic result (GPA, Percentage, N/A)\n",
    "    - Field of Study: Areas of study or specialization\n",
    "    - Companies: Companies where the candidate has worked\n",
    "    - Job Skills: Skills used in each job position\n",
    "    - Positions: Job titles/roles held\n",
    "    - Responsibilities: Key responsibilities in each role\n",
    "    - Activity Type: Types of activities/involvement\n",
    "    - Organizations: Organizations involved with\n",
    "    - Roles: Roles in organizations\n",
    "    - Languages: Languages spoken\n",
    "    - Proficiency: Language proficiency levels\n",
    "    - Certifications From: Certification providers\n",
    "    - Certification Skills: Skills from certifications\n",
    "\n",
    "Return your answer strictly CSV format\n",
    "\n",
    "This is an example of output:\n",
    "The candidate is a highly analytical and detail-oriented professional with extensive experience in financial statement preparation, quality assurance, compliance, auditing, customer service, and regulatory requirements. They possess thorough knowledge of financial reporting, cash and accrual basis accounting, fund basis reporting, GAAP, and other accounting standards. The candidate adapts quickly to new software and systems and is proficient in QuickBooks, MAS, ADP, Condo Manager, Adobe, and all Microsoft applications. They excel in problem-solving and strategic planning skills.\n",
    "\n",
    "The candidate holds a Bachelor of Science in Accounting and a Bachelor of Science in Business Administration Finance, both obtained in May 2010 from the University of North Carolina.\n",
    "\n",
    "In their role as a Staff Accountant from January 2014 to October 2014, they performed all month-end functions to produce financial statements, which included reconciling operating and payroll bank accounts, recording monthly sales, payroll journals, accrued payroll, sales tax, and inventory adjustments. They entered all payables and receivables for seven franchise locations, worked with vendors to resolve issues, and ensured that all necessary franchise documents were current. The candidate collaborated directly with the controller on year-end reviews and maintained a weekly spreadsheet on collected franchise royalties and advertising fees, which was utilized for year-end audits. Additionally, they managed a company that owned and rented out twelve commercial properties, negotiating rent rates, writing leases, collecting rent, managing cash flow, and addressing tenant complaints. They also managed a small farming entity, overseeing cash flow, payables, and payroll journals, and filed the North Carolina Annual Report for all companies managed by Cary Keisler Inc.\n",
    "\n",
    "From March 2013 to January 2014, the candidate continued as a Staff Accountant, where they collected daily deposits, interacted with customers regarding outstanding balances, and handled all payable entries for various companies. They reconciled monthly purchasing American Express credit cards and facilitated the transition of the purchasing manager during a turnover period. They were responsible for ordering materials for the production floor and collaborated with the VP of Finance to develop unit valuation data for future job costing.\n",
    "\n",
    "As a Staff Accountant from April 2012 to March 2013, the candidate led the reconciliation of the Balance Sheet, researched transaction discrepancies, and ensured accurate billing information for projects. They designed Excel spreadsheets for prepaid employee benefits reconciliation and managed the custodial bookkeeping of fixed assets for depreciation purposes. They also prepared monthly Sales and Use Tax.\n",
    "\n",
    "From July 2010 to August 2011, the candidate served as a Financial Management Partner, where they identified and resolved subsidiary ledger discrepancies, performed monthly bank reconciliations, and provided support to clients and employees on financial reporting issues. They trained new accounting department employees and coordinated lien and foreclosure preparations. The candidate conducted constant analysis of clients' interim financial reports, prepared variance reports, and assisted in annual budget preparations and audits.\n",
    "\n",
    "The candidate has been involved in various activities, including serving as an officer and chair in Alpha Sigma Phi from January 2006 to May 2010, where they held positions such as Vice President and Social Chair, and participated in the Livestrong Foundation's Bike-a-thon. Their skills encompass accounting, accounts payable, accounts receivable, bank reconciliations, cash flow projections, financial reporting, job costing, and proficiency in various software applications.\n",
    "\n",
    "\n",
    "CV DATA:\n",
    "{profile_record}\n",
    "\"\"\"\n",
    "\n",
    "    summaries = []\n",
    "\n",
    "    for profile_record in tqdm(cv_list, desc=\"Resumiendo CVs\"):\n",
    "        prompt = prompt_base.format(profile_record=profile_record)\n",
    "\n",
    "        response = await client.chat.completions.create(\n",
    "            model=DEPLOYMENT,\n",
    "            messages=[{\"role\": \"user\", \"content\": prompt}],\n",
    "            temperature=temperatura,\n",
    "            max_tokens=1000\n",
    "\n",
    "        )\n",
    "        texto = response.choices[0].message.content\n",
    "\n",
    "        # 1️⃣ Eliminar los backticks triple\n",
    "        texto = texto.replace(\"```csv\", \"\").replace(\"```\", \"\")\n",
    "\n",
    "        # 2️⃣ Limpiar espacios al inicio y final\n",
    "        texto = texto.strip()\n",
    "\n",
    "        # 3️⃣ Si empieza con \"csv \", quítalo\n",
    "        if texto.lower().startswith(\"csv \"):\n",
    "            texto = texto[4:]\n",
    "\n",
    "        # 4️⃣ Limpiar espacios redundantes\n",
    "        texto = \" \".join(texto.split())\n",
    "        summaries.append(texto)\n",
    "\n",
    "    return summaries\n"
   ]
  },
  {
   "cell_type": "code",
   "execution_count": 4,
   "metadata": {
    "executionInfo": {
     "elapsed": 26,
     "status": "ok",
     "timestamp": 1750597281646,
     "user": {
      "displayName": "Matias Luciano Antezana",
      "userId": "07131477241974260716"
     },
     "user_tz": 180
    },
    "id": "A70IXR-ruLdT"
   },
   "outputs": [],
   "source": [
    "async def resumir_JD(\n",
    "    jd_list,\n",
    "    overwrite=True,\n",
    "    temperatura=0.4\n",
    "):\n",
    "      promt_jd = \"\"\"\n",
    "          You will receive a structured input containing the following fields:\n",
    "\n",
    "              - Job Position\n",
    "\n",
    "              - Education\n",
    "\n",
    "              - Experience\n",
    "\n",
    "              - Age\n",
    "\n",
    "              - JD Responsibilities [list]\n",
    "\n",
    "              - Required Skills [list]\n",
    "\n",
    "          Your task is to generate a concise, fluent paragraph that summarizes the information provided.\n",
    "\n",
    "          Rules to follow strictly:\n",
    "\n",
    "            - Do not add, remove, or infer any information — only rephrase and reorganize what is explicitly given.\n",
    "\n",
    "            - If any field is null, empty, or not provided, omit it entirely from the summary.\n",
    "\n",
    "            - Ensure that all values in list fields (e.g., responsibilities, skills) are included exactly as they appear, with no alterations or exclusions.\n",
    "\n",
    "            - Output a single, well-structured paragraph in formal English.\n",
    "\n",
    "        Example format when all fields are present:\n",
    "        \"The position is for a [Job Position] requiring a minimum of [Experience] of experience. The candidate should have an educational background of [Education] and is [Age] years old. Key responsibilities include [list all JD Responsibilities in a sentence]. The required skills for this role include [list all Required Skills in a sentence].\"\n",
    "\n",
    "        Example when some fields are missing:\n",
    "        \"The position is for a [Job Position] requiring a minimum of [Experience] of experience. Key responsibilities include [...]. The required skills for this role include [...].\"\n",
    "\n",
    "        Now, generate the summary based strictly on the available input.\n",
    "\n",
    "        JD DATA:\n",
    "        {profile_record}\n",
    "      \"\"\"\n",
    "      jd_desc = []\n",
    "\n",
    "      for profile_record in tqdm(jd_list, desc=\"Resumiendo JDs\"):\n",
    "          prompt = promt_jd.format(profile_record=profile_record)\n",
    "\n",
    "          response = await client.chat.completions.create(\n",
    "              model=DEPLOYMENT,\n",
    "              messages=[{\"role\": \"user\", \"content\": prompt}],\n",
    "              temperature=temperatura,\n",
    "              max_tokens=1000\n",
    "\n",
    "          )\n",
    "          texto = response.choices[0].message.content\n",
    "\n",
    "          # 1️⃣ Eliminar los backticks triple\n",
    "          texto = texto.replace(\"```csv\", \"\").replace(\"```\", \"\")\n",
    "\n",
    "          # 2️⃣ Limpiar espacios al inicio y final\n",
    "          texto = texto.strip()\n",
    "\n",
    "          # 3️⃣ Si empieza con \"csv \", quítalo\n",
    "          if texto.lower().startswith(\"csv \"):\n",
    "              texto = texto[4:]\n",
    "\n",
    "          # 4️⃣ Limpiar espacios redundantes\n",
    "          texto = \" \".join(texto.split())\n",
    "          jd_desc.append(texto)\n",
    "\n",
    "      return jd_desc\n",
    "\n"
   ]
  },
  {
   "cell_type": "code",
   "execution_count": 5,
   "metadata": {
    "colab": {
     "base_uri": "https://localhost:8080/"
    },
    "executionInfo": {
     "elapsed": 89760,
     "status": "ok",
     "timestamp": 1750597371418,
     "user": {
      "displayName": "Matias Luciano Antezana",
      "userId": "07131477241974260716"
     },
     "user_tz": 180
    },
    "id": "c7kR1Vik1Yuw",
    "outputId": "d50af4c1-537f-4333-fad4-76e2c825a797"
   },
   "outputs": [
    {
     "name": "stdout",
     "output_type": "stream",
     "text": [
      "Mounted at /content/drive\n"
     ]
    }
   ],
   "source": [
    "import sys\n",
    "\n",
    "try:\n",
    "    import google.colab\n",
    "    IN_COLAB = True\n",
    "except ImportError:\n",
    "    IN_COLAB = False\n",
    "\n",
    "if IN_COLAB:\n",
    "    from google.colab import drive\n",
    "    drive.mount('/content/drive')\n",
    "    sys.path.append('/content/drive/MyDrive/ApplAI/')"
   ]
  },
  {
   "cell_type": "code",
   "execution_count": 6,
   "metadata": {
    "executionInfo": {
     "elapsed": 7,
     "status": "ok",
     "timestamp": 1750597371431,
     "user": {
      "displayName": "Matias Luciano Antezana",
      "userId": "07131477241974260716"
     },
     "user_tz": 180
    },
    "id": "A4AKMn8pyBwM"
   },
   "outputs": [],
   "source": [
    "import pandas as pd\n",
    "\n",
    "def leer_cv_columna(ruta_archivo, nombre_columna=\"CV\"):\n",
    "    \"\"\"\n",
    "    Lee un archivo CSV y extrae los valores de la columna de CVs.\n",
    "\n",
    "    Parámetros:\n",
    "    - ruta_archivo (str): Ruta al archivo CSV (por ejemplo: 'data/cvs.csv')\n",
    "    - nombre_columna (str): Nombre de la columna que contiene los CVs (default: 'CV')\n",
    "\n",
    "    Retorna:\n",
    "    - Lista de CVs (list[str])\n",
    "    \"\"\"\n",
    "    df = pd.read_csv(ruta_archivo, encoding='utf-8')\n",
    "\n",
    "    if nombre_columna not in df.columns:\n",
    "        raise ValueError(f\"La columna '{nombre_columna}' no existe en el archivo.\")\n",
    "\n",
    "    # Eliminar valores nulos y convertir a string\n",
    "    cv_list = df[nombre_columna].dropna().astype(str).tolist()\n",
    "\n",
    "    return cv_list"
   ]
  },
  {
   "cell_type": "code",
   "execution_count": 7,
   "metadata": {
    "executionInfo": {
     "elapsed": 1,
     "status": "ok",
     "timestamp": 1750597371433,
     "user": {
      "displayName": "Matias Luciano Antezana",
      "userId": "07131477241974260716"
     },
     "user_tz": 180
    },
    "id": "Y59ca8v8rUau"
   },
   "outputs": [],
   "source": [
    "import pandas as pd\n",
    "import os\n",
    "\n",
    "def guardar_cv_con_jd_y_score(summaries, jd_list, score_list, indices_origen, ruta_salida, overwrite=True):\n",
    "    if not overwrite:\n",
    "        base, ext = os.path.splitext(ruta_salida)\n",
    "        contador = 1\n",
    "        while os.path.exists(ruta_salida):\n",
    "            ruta_salida = f\"{base}_{contador}{ext}\"\n",
    "            contador += 1\n",
    "\n",
    "    # Subseleccionar los JD y score según los índices\n",
    "    jd_seleccionados = [jd_list[i] for i in indices_origen]\n",
    "    score_seleccionados = [score_list[i] for i in indices_origen]\n",
    "\n",
    "    # Crear DataFrame\n",
    "    df = pd.DataFrame({\n",
    "        \"cv_information\": summaries,\n",
    "        \"job_description\": jd_seleccionados,\n",
    "        \"score\": score_seleccionados\n",
    "    })\n",
    "\n",
    "    # Guardar CSV\n",
    "    df.to_csv(ruta_salida, index=False, encoding=\"utf-8\")\n",
    "    print(f\"✅ Archivo combinado guardado en: {ruta_salida}\")\n",
    "    return ruta_salida\n"
   ]
  },
  {
   "cell_type": "code",
   "execution_count": 8,
   "metadata": {
    "colab": {
     "base_uri": "https://localhost:8080/"
    },
    "executionInfo": {
     "elapsed": 3087006,
     "status": "ok",
     "timestamp": 1750600458441,
     "user": {
      "displayName": "Matias Luciano Antezana",
      "userId": "07131477241974260716"
     },
     "user_tz": 180
    },
    "id": "IdXcxtRzx4IL",
    "outputId": "ffcc5bad-2634-4b4f-ee77-281255d1e964"
   },
   "outputs": [
    {
     "name": "stderr",
     "output_type": "stream",
     "text": [
      "Resumiendo CVs: 100%|██████████| 1363/1363 [51:25<00:00,  2.26s/it]\n"
     ]
    }
   ],
   "source": [
    "cv_list = leer_cv_columna(\"/content/drive/MyDrive/ApplAI/parte_4.csv\")\n",
    "JD_list = leer_cv_columna(\"/content/drive/MyDrive/ApplAI/parte_4.csv\", \"JD\")\n",
    "score_list = leer_cv_columna(\"/content/drive/MyDrive/ApplAI/parte_4.csv\", \"score\")\n",
    "\n",
    "summaries = await resumir_CSV(cv_list, overwrite=False)"
   ]
  },
  {
   "cell_type": "code",
   "execution_count": 9,
   "metadata": {
    "colab": {
     "base_uri": "https://localhost:8080/"
    },
    "executionInfo": {
     "elapsed": 1588912,
     "status": "ok",
     "timestamp": 1750602047362,
     "user": {
      "displayName": "Matias Luciano Antezana",
      "userId": "07131477241974260716"
     },
     "user_tz": 180
    },
    "id": "clVdkYSEwyII",
    "outputId": "d4c4aec6-300d-4c50-e757-5d29749feb0f"
   },
   "outputs": [
    {
     "name": "stderr",
     "output_type": "stream",
     "text": [
      "Resumiendo JDs: 100%|██████████| 1363/1363 [26:28<00:00,  1.17s/it]\n"
     ]
    }
   ],
   "source": [
    "jd_summaries = await resumir_JD(JD_list, overwrite=False)"
   ]
  },
  {
   "cell_type": "code",
   "execution_count": 10,
   "metadata": {
    "colab": {
     "base_uri": "https://localhost:8080/",
     "height": 52
    },
    "executionInfo": {
     "elapsed": 110,
     "status": "ok",
     "timestamp": 1750602047483,
     "user": {
      "displayName": "Matias Luciano Antezana",
      "userId": "07131477241974260716"
     },
     "user_tz": 180
    },
    "id": "HaFNrQVCrZmg",
    "outputId": "e8d3993b-b5ca-4afc-f558-220368e21bb0"
   },
   "outputs": [
    {
     "name": "stdout",
     "output_type": "stream",
     "text": [
      "✅ Archivo combinado guardado en: /content/drive/MyDrive/ApplAI/parteCambiada_parte_4.csv\n"
     ]
    },
    {
     "data": {
      "application/vnd.google.colaboratory.intrinsic+json": {
       "type": "string"
      },
      "text/plain": [
       "'/content/drive/MyDrive/ApplAI/parteCambiada_parte_4.csv'"
      ]
     },
     "execution_count": 10,
     "metadata": {},
     "output_type": "execute_result"
    }
   ],
   "source": [
    "guardar_cv_con_jd_y_score(\n",
    "    summaries=summaries,\n",
    "    jd_list=jd_summaries,\n",
    "    score_list=score_list,\n",
    "    indices_origen=list(range(0,len(summaries))),\n",
    "    ruta_salida=\"/content/drive/MyDrive/ApplAI/parteCambiada_parte_4.csv\",\n",
    "    overwrite=False\n",
    ")"
   ]
  },
  {
   "cell_type": "markdown",
   "metadata": {},
   "source": [
    "# Función que llama al LLM y parsea el resultado\n",
    "async def extract_cv_info(texto_crudo: str, azure_client: AsyncAzureOpenAI, DEPLOYMENT: str):\n",
    "    system_prompt = \"You are an assistant that extracts structured information from CVs.\"\n",
    "\n",
    "    # Prompt\n",
    "    user_prompt = f\"\"\"\n",
    "You will receive a resume in raw text format. Your task is to extract:\n",
    "\n",
    "1. The name of the candidate.\n",
    "2. The email address.\n",
    "3. The phone number.\n",
    "4. A cleaned and structured version of the resume that removes any personal contact information (name, email, phone, address, LinkedIn, etc.).\n",
    "\n",
    "For the fourth part:\n",
    "- Do NOT summarize or omit key content.\n",
    "- Instead, preserve as much of the original job-related information as possible.\n",
    "- Reorganize and rephrase disconnected items into full sentences with proper structure and connectors (e.g., “The candidate worked at...”, “They were responsible for...”, “Their skills include...”).\n",
    "- You may rewrite bullet points and lists as prose, but keep all relevant details intact.\n",
    "- Do NOT include any personal identifiers or contact information.\n",
    "- Imagine you are preparing the resume for analysis by an AI model – you want to keep the full context but make it more readable.\n",
    "\n",
    "You may use the following fields *only if present* in the text:\n",
    "- Career Objective\n",
    "- Skills\n",
    "- Institution\n",
    "- Degree\n",
    "- Results\n",
    "- Result Type\n",
    "- Field of Study\n",
    "- Companies\n",
    "- Job Skills\n",
    "- Positions\n",
    "- Responsibilities\n",
    "- Activity Type\n",
    "- Organizations\n",
    "- Roles\n",
    "- Languages\n",
    "- Proficiency\n",
    "- Certifications From\n",
    "- Certification Skills\n",
    "\n",
    "Return your answer strictly in JSON format as follows:\n",
    "\n",
    "{{\n",
    "    \"name\": \"...\",\n",
    "    \"email\": \"...\",\n",
    "    \"phone_number\": \"...\",\n",
    "    \"cv_information\": \"...\"\n",
    "}}\n",
    "\n",
    "CV TEXT:\n",
    "{texto_crudo}\n",
    "\"\"\"\n",
    "    try:\n",
    "        response = await azure_client.chat.completions.create(\n",
    "            model=DEPLOYMENT,\n",
    "            messages=[\n",
    "                {\"role\": \"system\", \"content\": system_prompt},\n",
    "                {\"role\": \"user\", \"content\": user_prompt}\n",
    "            ],\n",
    "            temperature=0.0,\n",
    "            max_tokens=1000\n",
    "        )\n",
    "\n",
    "        content = response.choices[0].message.content.strip()\n",
    "\n",
    "        # Eliminar formato tipo markdown de código json ... \n",
    "        if content.startswith(\"json\"):\n",
    "            content = content.removeprefix(\"json\").removesuffix(\"\").strip()\n",
    "        elif content.startswith(\"\"):\n",
    "            content = content.removeprefix(\"\").removesuffix(\"\").strip()\n",
    "\n",
    "        # Intentar cargar JSON\n",
    "        data = json.loads(content)\n",
    "\n",
    "        # Rellenar claves faltantes manualmente\n",
    "        data = {\n",
    "                \"name\": data.get(\"name\", \"Not provided\"),\n",
    "                \"email\": data.get(\"email\", \"Not provided\"),\n",
    "                \"phone_number\": data.get(\"phone_number\", \"Not provided\"),\n",
    "                \"cv_information\": data.get(\"cv_information\", \"Not provided\")\n",
    "            }\n",
    "        return CleanedCV(**data)\n",
    "\n",
    "    except Exception as e:\n",
    "        print(\"⚠️ Error al procesar la respuesta del modelo:\", e)\n",
    "        print(\"🔎 Respuesta recibida:\")\n",
    "        print(content)\n",
    "        return CleanedCV()"
   ]
  }
 ],
 "metadata": {
  "colab": {
   "provenance": []
  },
  "kernelspec": {
   "display_name": "Python 3",
   "name": "python3"
  },
  "language_info": {
   "name": "python"
  }
 },
 "nbformat": 4,
 "nbformat_minor": 0
}
