{
 "cells": [
  {
   "cell_type": "code",
   "execution_count": null,
   "id": "86fa74aa",
   "metadata": {},
   "outputs": [
    {
     "name": "stderr",
     "output_type": "stream",
     "text": [
      "/home/heisenberg/miniforge3/lib/python3.12/site-packages/tqdm/auto.py:21: TqdmWarning: IProgress not found. Please update jupyter and ipywidgets. See https://ipywidgets.readthedocs.io/en/stable/user_install.html\n",
      "  from .autonotebook import tqdm as notebook_tqdm\n"
     ]
    },
    {
     "ename": "",
     "evalue": "",
     "output_type": "error",
     "traceback": [
      "\u001b[1;31mThe Kernel crashed while executing code in the current cell or a previous cell. \n",
      "\u001b[1;31mPlease review the code in the cell(s) to identify a possible cause of the failure. \n",
      "\u001b[1;31mClick <a href='https://aka.ms/vscodeJupyterKernelCrash'>here</a> for more info. \n",
      "\u001b[1;31mView Jupyter <a href='command:jupyter.viewOutput'>log</a> for further details."
     ]
    }
   ],
   "source": [
    "from sentence_transformers import SentenceTransformer, InputExample, losses, models\n",
    "from torch.utils.data import DataLoader\n",
    "import pandas as pd\n",
    "from sklearn.preprocessing import LabelEncoder\n",
    "import torch\n",
    "import os\n",
    "from datasets import Dataset\n",
    "\n"
   ]
  },
  {
   "cell_type": "code",
   "execution_count": null,
   "id": "2c709185",
   "metadata": {},
   "outputs": [
    {
     "name": "stdout",
     "output_type": "stream",
     "text": [
      "Index(['resume_text', 'job_description_text', 'label'], dtype='object')\n"
     ]
    },
    {
     "name": "stderr",
     "output_type": "stream",
     "text": [
      "                                                                     \r"
     ]
    }
   ],
   "source": [
    "# ========= Cargar y preparar el dataset =========\n",
    "df = pd.read_csv(\"resume-job-description-fit (texto plano)/train.csv\")\n",
    "\n",
    "# Revisá los nombres de columnas\n",
    "print(df.columns)\n",
    "\n",
    "# Usá los nombres correctos según tu archivo\n",
    "df = df.dropna(subset=['resume_text', 'job_description_text', 'label'])\n",
    "\n",
    "# Convertir clases a números\n",
    "label_encoder = LabelEncoder()\n",
    "df['label'] = label_encoder.fit_transform(df['label']).astype(int)  # e.g., 'good fit' → 2\n",
    "\n",
    "# Crear InputExamples\n",
    "train_samples = [\n",
    "    InputExample(texts=[row['resume_text'], row['job_description_text']], label=row['label'])\n",
    "    for _, row in df.iterrows()\n",
    "]\n",
    "\n",
    "# ========= Modelo base =========\n",
    "model = SentenceTransformer('all-mpnet-base-v2')\n",
    "\n",
    "# ========= Dataset y dataloader =========\n",
    "train_dataloader = DataLoader(train_samples, shuffle=True, batch_size=16)\n",
    "\n",
    "# ========= Pérdida para clasificación multiclase =========\n",
    "train_loss = losses.SoftmaxLoss(\n",
    "    model=model,\n",
    "    sentence_embedding_dimension=model.get_sentence_embedding_dimension(),\n",
    "    num_labels=3  # Ajustá si cambiás la cantidad de clases\n",
    ")\n",
    "\n",
    "# ========= Entrenamiento =========\n",
    "output_path = \"output/job_match_model\"\n",
    "os.makedirs(output_path, exist_ok=True)\n",
    "\n",
    "model.fit(\n",
    "    train_objectives=[(train_dataloader, train_loss)],\n",
    "    epochs=3,\n",
    "    warmup_steps=100,\n",
    "    output_path=output_path,\n",
    "    show_progress_bar=True\n",
    ")\n",
    "\n",
    "# ========= Guardar mapeo de etiquetas =========\n",
    "label_map = dict(zip(label_encoder.classes_, label_encoder.transform(label_encoder.classes_)))\n",
    "with open(os.path.join(output_path, \"label_mapping.txt\"), \"w\") as f:\n",
    "    for label, idx in label_map.items():\n",
    "        f.write(f\"{idx}\\t{label}\\n\")\n",
    "\n",
    "print(\"✅ Entrenamiento terminado. Modelo guardado en:\", output_path)\n"
   ]
  }
 ],
 "metadata": {
  "kernelspec": {
   "display_name": "base",
   "language": "python",
   "name": "python3"
  },
  "language_info": {
   "codemirror_mode": {
    "name": "ipython",
    "version": 3
   },
   "file_extension": ".py",
   "mimetype": "text/x-python",
   "name": "python",
   "nbconvert_exporter": "python",
   "pygments_lexer": "ipython3",
   "version": "3.12.8"
  }
 },
 "nbformat": 4,
 "nbformat_minor": 5
}
