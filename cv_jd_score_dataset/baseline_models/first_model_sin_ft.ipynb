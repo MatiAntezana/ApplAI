{
 "cells": [
  {
   "cell_type": "markdown",
   "id": "d5f75bd0",
   "metadata": {},
   "source": [
    "Este primer script usa el modelo de embeddings all-MiniLM-L6-v2 y se compara la similitud coseno entre dos textos.\n",
    "\n",
    "Es bastante simple, por ejemplo si la Job Description es igual al CV, el resultado del matcheo es 1.0."
   ]
  },
  {
   "cell_type": "code",
   "execution_count": 1,
   "id": "22e5685b",
   "metadata": {},
   "outputs": [
    {
     "name": "stderr",
     "output_type": "stream",
     "text": [
      "/home/heisenberg/miniforge3/lib/python3.12/site-packages/tqdm/auto.py:21: TqdmWarning: IProgress not found. Please update jupyter and ipywidgets. See https://ipywidgets.readthedocs.io/en/stable/user_install.html\n",
      "  from .autonotebook import tqdm as notebook_tqdm\n"
     ]
    }
   ],
   "source": [
    "import pandas as pd\n",
    "import tqdm\n",
    "from sentence_transformers import SentenceTransformer, util"
   ]
  },
  {
   "cell_type": "code",
   "execution_count": 2,
   "id": "e7c5ad48",
   "metadata": {},
   "outputs": [
    {
     "name": "stdout",
     "output_type": "stream",
     "text": [
      "9544\n"
     ]
    }
   ],
   "source": [
    "# Leer el archivo CSV y extraer la primera línea y separar los campos\n",
    "df = pd.read_csv('../plain_text_resume_data.csv')\n",
    "print(len(df))"
   ]
  },
  {
   "cell_type": "code",
   "execution_count": 4,
   "id": "e615c5d8",
   "metadata": {},
   "outputs": [],
   "source": [
    "# Cargar el modelo pre-entrenado desde Hugging Face\n",
    "model = SentenceTransformer('all-MiniLM-L6-v2')  # Rápido para similaridad"
   ]
  },
  {
   "cell_type": "code",
   "execution_count": 5,
   "id": "3b078f41",
   "metadata": {},
   "outputs": [],
   "source": [
    "def calculate_similarity(row, score=True):\n",
    "    cv_text = row.iloc[0]\n",
    "    job_description = row.iloc[1]\n",
    "\n",
    "    # Obtener embeddings\n",
    "    cv_embedding = model.encode(cv_text, convert_to_tensor=True)\n",
    "    job_embedding = model.encode(job_description, convert_to_tensor=True)\n",
    "\n",
    "    # Calcular similaridad coseno\n",
    "    predicted_score = util.cos_sim(cv_embedding, job_embedding).item()  # valor entre -1 y 1\n",
    "\n",
    "    if score:\n",
    "        real_score = row.iloc[2]\n",
    "        return predicted_score, real_score\n",
    "    \n",
    "    return predicted_score\n",
    "\n"
   ]
  },
  {
   "cell_type": "code",
   "execution_count": 24,
   "id": "9a8bd66a",
   "metadata": {},
   "outputs": [
    {
     "name": "stderr",
     "output_type": "stream",
     "text": [
      "  0%|          | 0/9544 [00:00<?, ?it/s]/tmp/ipykernel_7746/3487695072.py:2: FutureWarning: Series.__getitem__ treating keys as positions is deprecated. In a future version, integer keys will always be treated as labels (consistent with DataFrame behavior). To access a value by position, use `ser.iloc[pos]`\n",
      "  cv_text = row[0]\n",
      "/tmp/ipykernel_7746/3487695072.py:3: FutureWarning: Series.__getitem__ treating keys as positions is deprecated. In a future version, integer keys will always be treated as labels (consistent with DataFrame behavior). To access a value by position, use `ser.iloc[pos]`\n",
      "  job_description = row[1]\n",
      "/tmp/ipykernel_7746/3487695072.py:4: FutureWarning: Series.__getitem__ treating keys as positions is deprecated. In a future version, integer keys will always be treated as labels (consistent with DataFrame behavior). To access a value by position, use `ser.iloc[pos]`\n",
      "  real_score = row[2]\n",
      "100%|██████████| 9544/9544 [08:26<00:00, 18.85it/s]\n"
     ]
    }
   ],
   "source": [
    "# Aplicar la función a cada fila del DataFrame\n",
    "RMSE = 0\n",
    "RMSE_cero_a_cien = 0\n",
    "cantidad_de_datos = len(df)\n",
    "\n",
    "for i in tqdm.tqdm(range(cantidad_de_datos)):\n",
    "    row = df.iloc[i]\n",
    "    score, real_score = calculate_similarity(row)\n",
    "    scaled_scores = round((score + 1) / 2 * 100, 2), round((real_score + 1) / 2 * 100, 2) # por si acaso\n",
    "    RMSE += (score - real_score) ** 2\n",
    "    RMSE_cero_a_cien += (scaled_scores[0] - scaled_scores[1]) ** 2\n"
   ]
  },
  {
   "cell_type": "code",
   "execution_count": 25,
   "id": "ebb1c867",
   "metadata": {},
   "outputs": [
    {
     "name": "stdout",
     "output_type": "stream",
     "text": [
      "RMSE: 0.22868232063846028\n",
      "RMSE (0-100): 11.434088650019119\n"
     ]
    }
   ],
   "source": [
    "RMSE = (RMSE / cantidad_de_datos) ** 0.5\n",
    "RMSE_cero_a_cien = (RMSE_cero_a_cien / cantidad_de_datos) ** 0.5\n",
    "print(f\"RMSE: {RMSE}\")\n",
    "print(f\"RMSE (0-100): {RMSE_cero_a_cien}\")"
   ]
  },
  {
   "cell_type": "code",
   "execution_count": 7,
   "id": "aee87414",
   "metadata": {},
   "outputs": [
    {
     "name": "stdout",
     "output_type": "stream",
     "text": [
      "Good case score: 0.7639485597610474\n",
      "Bad case score: 0.4717787504196167\n"
     ]
    }
   ],
   "source": [
    "# Evaluar en dos casos particulares\n",
    "\n",
    "# Buen caso\n",
    "df_good = pd.read_csv('cv_jd_good_fit.csv')\n",
    "good_score = calculate_similarity(df_good.iloc[0], score=False)\n",
    "\n",
    "# Mal caso\n",
    "df_bad = pd.read_csv('cv_jd_bad_fit.csv')\n",
    "bad_score = calculate_similarity(df_bad.iloc[0], score=False)\n",
    "\n",
    "print(f\"Good case score: {good_score}\")\n",
    "print(f\"Bad case score: {bad_score}\")"
   ]
  }
 ],
 "metadata": {
  "kernelspec": {
   "display_name": "base",
   "language": "python",
   "name": "python3"
  },
  "language_info": {
   "codemirror_mode": {
    "name": "ipython",
    "version": 3
   },
   "file_extension": ".py",
   "mimetype": "text/x-python",
   "name": "python",
   "nbconvert_exporter": "python",
   "pygments_lexer": "ipython3",
   "version": "3.12.8"
  }
 },
 "nbformat": 4,
 "nbformat_minor": 5
}
